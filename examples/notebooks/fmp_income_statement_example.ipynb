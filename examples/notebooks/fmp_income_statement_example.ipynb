{
 "cells": [
  {
   "cell_type": "code",
   "execution_count": 1,
   "metadata": {},
   "outputs": [],
   "source": [
    "from fin_statement_model.adapters.fmp import FMPAdapter\n",
    "# Example usage\n",
    "api_key = \"4A7zLDw1zxKtZn3eVlFN3ZHGbLXpGKz3\"\n",
    "adapter = FMPAdapter(api_key)"
   ]
  },
  {
   "cell_type": "code",
   "execution_count": 2,
   "metadata": {},
   "outputs": [],
   "source": [
    "period = \"FY\"\n",
    "ticker = \"AAPL\""
   ]
  },
  {
   "cell_type": "code",
   "execution_count": 3,
   "metadata": {},
   "outputs": [],
   "source": [
    "fsg_income = adapter.create_statement_graph(ticker, period=period, statement_type=\"income_statement\")\n",
    "fsg_balance = adapter.create_statement_graph(ticker, period=period, statement_type=\"balance_sheet\")\n",
    "fsg_cashflow = adapter.create_statement_graph(ticker, period=period, statement_type=\"cash_flow_statement\")\n",
    "fsg = fsg_income + fsg_balance + fsg_cashflow"
   ]
  },
  {
   "cell_type": "code",
   "execution_count": 5,
   "metadata": {},
   "outputs": [],
   "source": [
    "fsg.add_metric(\"net_income\")\n",
    "fsg.add_metric(\"ebit\")\n",
    "fsg.add_metric(\"ebitda\")\n",
    "fsg.add_metric(\"nopat\")\n",
    "\n",
    "fsg.add_metric(\"gross_profit_margin\")\n",
    "fsg.add_metric(\"operating_margin\")\n",
    "fsg.add_metric(\"net_profit_margin\")\n",
    "fsg.add_metric(\"ebit_margin\")\n",
    "fsg.add_metric(\"ebitda_margin\")\n",
    "fsg.add_metric(\"nopat_margin\")\n",
    "\n"
   ]
  },
  {
   "cell_type": "code",
   "execution_count": 9,
   "metadata": {},
   "outputs": [],
   "source": [
    "fsg.to_dataframe().to_clipboard()"
   ]
  },
  {
   "cell_type": "code",
   "execution_count": 7,
   "metadata": {},
   "outputs": [
    {
     "data": {
      "text/html": [
       "<div>\n",
       "<style scoped>\n",
       "    .dataframe tbody tr th:only-of-type {\n",
       "        vertical-align: middle;\n",
       "    }\n",
       "\n",
       "    .dataframe tbody tr th {\n",
       "        vertical-align: top;\n",
       "    }\n",
       "\n",
       "    .dataframe thead th {\n",
       "        text-align: right;\n",
       "    }\n",
       "</style>\n",
       "<table border=\"1\" class=\"dataframe\">\n",
       "  <thead>\n",
       "    <tr style=\"text-align: right;\">\n",
       "      <th></th>\n",
       "      <th>FY2020</th>\n",
       "      <th>FY2021</th>\n",
       "      <th>FY2022</th>\n",
       "      <th>FY2023</th>\n",
       "      <th>FY2024</th>\n",
       "    </tr>\n",
       "  </thead>\n",
       "  <tbody>\n",
       "    <tr>\n",
       "      <th>revenue</th>\n",
       "      <td>2.745150e+11</td>\n",
       "      <td>3.658170e+11</td>\n",
       "      <td>3.943280e+11</td>\n",
       "      <td>3.832850e+11</td>\n",
       "      <td>3.910350e+11</td>\n",
       "    </tr>\n",
       "    <tr>\n",
       "      <th>cost_of_goods_sold</th>\n",
       "      <td>1.695590e+11</td>\n",
       "      <td>2.129810e+11</td>\n",
       "      <td>2.235460e+11</td>\n",
       "      <td>2.141370e+11</td>\n",
       "      <td>2.103520e+11</td>\n",
       "    </tr>\n",
       "    <tr>\n",
       "      <th>research_and_development_expenses</th>\n",
       "      <td>1.875200e+10</td>\n",
       "      <td>2.191400e+10</td>\n",
       "      <td>2.625100e+10</td>\n",
       "      <td>2.991500e+10</td>\n",
       "      <td>3.137000e+10</td>\n",
       "    </tr>\n",
       "    <tr>\n",
       "      <th>general_and_administrative_expenses</th>\n",
       "      <td>0.000000e+00</td>\n",
       "      <td>0.000000e+00</td>\n",
       "      <td>0.000000e+00</td>\n",
       "      <td>0.000000e+00</td>\n",
       "      <td>0.000000e+00</td>\n",
       "    </tr>\n",
       "    <tr>\n",
       "      <th>selling_and_marketing_expenses</th>\n",
       "      <td>0.000000e+00</td>\n",
       "      <td>0.000000e+00</td>\n",
       "      <td>0.000000e+00</td>\n",
       "      <td>0.000000e+00</td>\n",
       "      <td>0.000000e+00</td>\n",
       "    </tr>\n",
       "    <tr>\n",
       "      <th>...</th>\n",
       "      <td>...</td>\n",
       "      <td>...</td>\n",
       "      <td>...</td>\n",
       "      <td>...</td>\n",
       "      <td>...</td>\n",
       "    </tr>\n",
       "    <tr>\n",
       "      <th>operating_margin</th>\n",
       "      <td>2.414731e-01</td>\n",
       "      <td>2.978238e-01</td>\n",
       "      <td>3.028874e-01</td>\n",
       "      <td>2.982141e-01</td>\n",
       "      <td>3.151022e-01</td>\n",
       "    </tr>\n",
       "    <tr>\n",
       "      <th>net_profit_margin</th>\n",
       "      <td>2.091361e-01</td>\n",
       "      <td>2.588179e-01</td>\n",
       "      <td>2.530964e-01</td>\n",
       "      <td>2.530623e-01</td>\n",
       "      <td>2.390246e-01</td>\n",
       "    </tr>\n",
       "    <tr>\n",
       "      <th>ebit_margin</th>\n",
       "      <td>2.414731e-01</td>\n",
       "      <td>2.978238e-01</td>\n",
       "      <td>3.028874e-01</td>\n",
       "      <td>2.982141e-01</td>\n",
       "      <td>3.151022e-01</td>\n",
       "    </tr>\n",
       "    <tr>\n",
       "      <th>ebitda_margin</th>\n",
       "      <td>2.817478e-01</td>\n",
       "      <td>3.286698e-01</td>\n",
       "      <td>3.310467e-01</td>\n",
       "      <td>3.282675e-01</td>\n",
       "      <td>3.443707e-01</td>\n",
       "    </tr>\n",
       "    <tr>\n",
       "      <th>nopat_margin</th>\n",
       "      <td>2.062110e-01</td>\n",
       "      <td>2.581127e-01</td>\n",
       "      <td>2.539434e-01</td>\n",
       "      <td>2.545364e-01</td>\n",
       "      <td>2.390246e-01</td>\n",
       "    </tr>\n",
       "  </tbody>\n",
       "</table>\n",
       "<p>68 rows × 5 columns</p>\n",
       "</div>"
      ],
      "text/plain": [
       "                                           FY2020        FY2021        FY2022  \\\n",
       "revenue                              2.745150e+11  3.658170e+11  3.943280e+11   \n",
       "cost_of_goods_sold                   1.695590e+11  2.129810e+11  2.235460e+11   \n",
       "research_and_development_expenses    1.875200e+10  2.191400e+10  2.625100e+10   \n",
       "general_and_administrative_expenses  0.000000e+00  0.000000e+00  0.000000e+00   \n",
       "selling_and_marketing_expenses       0.000000e+00  0.000000e+00  0.000000e+00   \n",
       "...                                           ...           ...           ...   \n",
       "operating_margin                     2.414731e-01  2.978238e-01  3.028874e-01   \n",
       "net_profit_margin                    2.091361e-01  2.588179e-01  2.530964e-01   \n",
       "ebit_margin                          2.414731e-01  2.978238e-01  3.028874e-01   \n",
       "ebitda_margin                        2.817478e-01  3.286698e-01  3.310467e-01   \n",
       "nopat_margin                         2.062110e-01  2.581127e-01  2.539434e-01   \n",
       "\n",
       "                                           FY2023        FY2024  \n",
       "revenue                              3.832850e+11  3.910350e+11  \n",
       "cost_of_goods_sold                   2.141370e+11  2.103520e+11  \n",
       "research_and_development_expenses    2.991500e+10  3.137000e+10  \n",
       "general_and_administrative_expenses  0.000000e+00  0.000000e+00  \n",
       "selling_and_marketing_expenses       0.000000e+00  0.000000e+00  \n",
       "...                                           ...           ...  \n",
       "operating_margin                     2.982141e-01  3.151022e-01  \n",
       "net_profit_margin                    2.530623e-01  2.390246e-01  \n",
       "ebit_margin                          2.982141e-01  3.151022e-01  \n",
       "ebitda_margin                        3.282675e-01  3.443707e-01  \n",
       "nopat_margin                         2.545364e-01  2.390246e-01  \n",
       "\n",
       "[68 rows x 5 columns]"
      ]
     },
     "execution_count": 7,
     "metadata": {},
     "output_type": "execute_result"
    }
   ],
   "source": [
    "df = fsg.to_dataframe()\n",
    "df"
   ]
  },
  {
   "cell_type": "code",
   "execution_count": 8,
   "metadata": {},
   "outputs": [
    {
     "data": {
      "text/plain": [
       "<Axes: >"
      ]
     },
     "execution_count": 8,
     "metadata": {},
     "output_type": "execute_result"
    },
    {
     "data": {
      "image/png": "[encoded data removed]",
      "text/plain": [
       "<Figure size 640x480 with 1 Axes>"
      ]
     },
     "metadata": {},
     "output_type": "display_data"
    }
   ],
   "source": [
    "df.loc[\"ebit_margin\",:].plot()"
   ]
  },
  {
   "cell_type": "code",
   "execution_count": null,
   "metadata": {},
   "outputs": [],
   "source": []
  }
 ],
 "metadata": {
  "kernelspec": {
   "display_name": "fin-statement-model-Glz6J57b-py3.9",
   "language": "python",
   "name": "python3"
  },
  "language_info": {
   "codemirror_mode": {
    "name": "ipython",
    "version": 3
   },
   "file_extension": ".py",
   "mimetype": "text/x-python",
   "name": "python",
   "nbconvert_exporter": "python",
   "pygments_lexer": "ipython3",
   "version": "3.9.7"
  }
 },
 "nbformat": 4,
 "nbformat_minor": 2
}
