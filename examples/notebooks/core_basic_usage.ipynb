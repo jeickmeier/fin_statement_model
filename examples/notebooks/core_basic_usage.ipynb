{
 "cells": [
  {
   "cell_type": "markdown",
   "metadata": {
    "vscode": {
     "languageId": "raw"
    }
   },
   "source": [
    "# Financial Statement Model Core Library - Basic Usage\n",
    "\n",
    "This notebook demonstrates the basic features and usage patterns of the `fin_statement_model.core` library. We'll cover:\n",
    "\n",
    "1. Creating and managing financial statement graphs\n",
    "2. Adding financial statement items and calculation nodes\n",
    "3. Working with metrics\n",
    "4. Using adjustments for scenario analysis\n",
    "5. Forecasting future values\n",
    "6. Graph inspection and traversal\n"
   ]
  },
  {
   "cell_type": "markdown",
   "metadata": {
    "vscode": {
     "languageId": "raw"
    }
   },
   "source": [
    "## 1. Setup and Basic Graph Creation\n",
    "\n",
    "Let's start by importing the necessary components and creating a basic financial statement graph.\n"
   ]
  },
  {
   "cell_type": "code",
   "execution_count": 24,
   "metadata": {},
   "outputs": [
    {
     "name": "stdout",
     "output_type": "stream",
     "text": [
      "Graph created with periods: ['2021', '2022', '2023']\n",
      "Initial nodes: []\n",
      "<Graph(Total Nodes: 0, FS Items: 0, Calculations: 0, Dependencies: 0, Periods: ['2021', '2022', '2023'])>\n"
     ]
    }
   ],
   "source": [
    "# Import the core components\n",
    "from fin_statement_model.core import Graph\n",
    "from fin_statement_model.core.adjustments import AdjustmentType\n",
    "# Import metrics functionality\n",
    "from fin_statement_model.core.metrics import metric_registry, calculate_metric, interpret_metric\n",
    "# Import AdjustmentFilter for proper filtering\n",
    "from fin_statement_model.core.adjustments import AdjustmentFilter\n",
    "\n",
    "# Create a graph with historical periods\n",
    "graph = Graph(periods=[\"2021\", \"2022\", \"2023\"])\n",
    "\n",
    "# Display the initial graph state\n",
    "print(f\"Graph created with periods: {graph.periods}\")\n",
    "print(f\"Initial nodes: {list(graph.nodes.keys())}\")\n",
    "print(graph)\n"
   ]
  },
  {
   "cell_type": "markdown",
   "metadata": {
    "vscode": {
     "languageId": "raw"
    }
   },
   "source": [
    "## 2. Adding Financial Statement Items\n",
    "\n",
    "Now let's add some basic financial statement items like Revenue, COGS, and Operating Expenses.\n"
   ]
  },
  {
   "cell_type": "code",
   "execution_count": 25,
   "metadata": {},
   "outputs": [
    {
     "name": "stdout",
     "output_type": "stream",
     "text": [
      "Financial statement items added:\n",
      "  Revenue: {'2021': 1000.0, '2022': 1200.0, '2023': 1400.0}\n",
      "  COGS: {'2021': 600.0, '2022': 700.0, '2023': 800.0}\n",
      "  OperatingExpenses: {'2021': 200.0, '2022': 240.0, '2023': 280.0}\n",
      "\n",
      "Revenue for 2023: $1,400.00\n"
     ]
    }
   ],
   "source": [
    "# Add revenue data\n",
    "revenue_node = graph.add_financial_statement_item(\n",
    "    \"Revenue\", \n",
    "    {\"2021\": 1000.0, \"2022\": 1200.0, \"2023\": 1400.0}\n",
    ")\n",
    "\n",
    "# Add cost of goods sold\n",
    "cogs_node = graph.add_financial_statement_item(\n",
    "    \"COGS\",\n",
    "    {\"2021\": 600.0, \"2022\": 700.0, \"2023\": 800.0}\n",
    ")\n",
    "\n",
    "# Add operating expenses\n",
    "opex_node = graph.add_financial_statement_item(\n",
    "    \"OperatingExpenses\",\n",
    "    {\"2021\": 200.0, \"2022\": 240.0, \"2023\": 280.0}\n",
    ")\n",
    "\n",
    "# Display current nodes\n",
    "print(\"Financial statement items added:\")\n",
    "for node_name in graph.nodes:\n",
    "    node = graph.nodes[node_name]\n",
    "    print(f\"  {node_name}: {node.values}\")\n",
    "\n",
    "# Calculate a specific value\n",
    "print(f\"\\nRevenue for 2023: ${graph.calculate('Revenue', '2023'):,.2f}\")\n"
   ]
  },
  {
   "cell_type": "markdown",
   "metadata": {
    "vscode": {
     "languageId": "raw"
    }
   },
   "source": [
    "## 3. Creating Calculation Nodes\n",
    "\n",
    "Let's create calculation nodes to derive metrics like Gross Profit, Operating Income, and profit margins.\n"
   ]
  },
  {
   "cell_type": "code",
   "execution_count": 26,
   "metadata": {},
   "outputs": [
    {
     "name": "stdout",
     "output_type": "stream",
     "text": [
      "Calculated Financial Metrics:\n",
      "============================================================\n",
      "\n",
      "2021:\n",
      "  Revenue:           $1,000.00\n",
      "  COGS:              $600.00\n",
      "  Gross Profit:      $400.00\n",
      "  Gross Margin:      40.0%\n",
      "  Operating Income:  $200.00\n",
      "  Operating Margin:  20.0%\n",
      "\n",
      "2022:\n",
      "  Revenue:           $1,200.00\n",
      "  COGS:              $700.00\n",
      "  Gross Profit:      $500.00\n",
      "  Gross Margin:      41.7%\n",
      "  Operating Income:  $260.00\n",
      "  Operating Margin:  21.7%\n",
      "\n",
      "2023:\n",
      "  Revenue:           $1,400.00\n",
      "  COGS:              $800.00\n",
      "  Gross Profit:      $600.00\n",
      "  Gross Margin:      42.9%\n",
      "  Operating Income:  $320.00\n",
      "  Operating Margin:  22.9%\n"
     ]
    }
   ],
   "source": [
    "# Create Gross Profit calculation (Revenue - COGS)\n",
    "gross_profit = graph.add_calculation(\n",
    "    name=\"GrossProfit\",\n",
    "    input_names=[\"Revenue\", \"COGS\"],\n",
    "    operation_type=\"subtraction\"\n",
    ")\n",
    "\n",
    "# Create Operating Income (Gross Profit - Operating Expenses)\n",
    "operating_income = graph.add_calculation(\n",
    "    name=\"OperatingIncome\",\n",
    "    input_names=[\"GrossProfit\", \"OperatingExpenses\"],\n",
    "    operation_type=\"subtraction\"\n",
    ")\n",
    "\n",
    "# Create Gross Profit Margin using formula\n",
    "gross_margin = graph.add_calculation(\n",
    "    name=\"GrossProfitMargin\",\n",
    "    input_names=[\"GrossProfit\", \"Revenue\"],\n",
    "    operation_type=\"formula\",\n",
    "    formula=\"(gross_profit / revenue) * 100\",\n",
    "    formula_variable_names=[\"gross_profit\", \"revenue\"]\n",
    ")\n",
    "\n",
    "# Create Operating Margin\n",
    "operating_margin = graph.add_calculation(\n",
    "    name=\"OperatingMargin\",\n",
    "    input_names=[\"OperatingIncome\", \"Revenue\"],\n",
    "    operation_type=\"formula\",\n",
    "    formula=\"(operating_income / revenue) * 100\",\n",
    "    formula_variable_names=[\"operating_income\", \"revenue\"]\n",
    ")\n",
    "\n",
    "# Calculate and display results for all periods\n",
    "print(\"Calculated Financial Metrics:\")\n",
    "print(\"=\" * 60)\n",
    "for period in graph.periods:\n",
    "    print(f\"\\n{period}:\")\n",
    "    print(f\"  Revenue:           ${graph.calculate('Revenue', period):,.2f}\")\n",
    "    print(f\"  COGS:              ${graph.calculate('COGS', period):,.2f}\")\n",
    "    print(f\"  Gross Profit:      ${graph.calculate('GrossProfit', period):,.2f}\")\n",
    "    print(f\"  Gross Margin:      {graph.calculate('GrossProfitMargin', period):.1f}%\")\n",
    "    print(f\"  Operating Income:  ${graph.calculate('OperatingIncome', period):,.2f}\")\n",
    "    print(f\"  Operating Margin:  {graph.calculate('OperatingMargin', period):.1f}%\")\n"
   ]
  },
  {
   "cell_type": "markdown",
   "metadata": {
    "vscode": {
     "languageId": "raw"
    }
   },
   "source": [
    "## 4. Working with Built-in Metrics\n",
    "\n",
    "The library includes a comprehensive metrics registry with 75+ financial metrics. Let's add some balance sheet items and calculate metrics.\n"
   ]
  },
  {
   "cell_type": "code",
   "execution_count": 27,
   "metadata": {},
   "outputs": [
    {
     "name": "stdout",
     "output_type": "stream",
     "text": [
      "Sample of available metrics:\n",
      "  - adjusted_funds_from_operations\n",
      "  - affo_multiple\n",
      "  - affo_per_share\n",
      "  - allowance_to_loans_ratio\n",
      "  - altman_z\"_score_(non_manufacturing)\n",
      "  ... and 116 more metrics\n",
      "\n",
      "Financial Ratios for 2023:\n",
      "----------------------------------------\n",
      "Current Ratio: 1.75\n",
      "  Rating: good\n",
      "  Interpretation: Good performance: 1.75\n",
      "\n",
      "Return on Assets: 8.0%\n",
      "  Rating: good\n",
      "  Interpretation: Good performance: 8.00\n"
     ]
    }
   ],
   "source": [
    "# Add some balance sheet items for metric calculations\n",
    "current_assets = graph.add_financial_statement_item(\n",
    "    \"CurrentAssets\",\n",
    "    {\"2021\": 500.0, \"2022\": 600.0, \"2023\": 700.0}\n",
    ")\n",
    "\n",
    "current_liabilities = graph.add_financial_statement_item(\n",
    "    \"CurrentLiabilities\", \n",
    "    {\"2021\": 300.0, \"2022\": 350.0, \"2023\": 400.0}\n",
    ")\n",
    "\n",
    "total_assets = graph.add_financial_statement_item(\n",
    "    \"TotalAssets\",\n",
    "    {\"2021\": 2000.0, \"2022\": 2400.0, \"2023\": 2800.0}\n",
    ")\n",
    "\n",
    "total_equity = graph.add_financial_statement_item(\n",
    "    \"TotalEquity\",\n",
    "    {\"2021\": 1200.0, \"2022\": 1400.0, \"2023\": 1600.0}\n",
    ")\n",
    "\n",
    "# List some available metrics\n",
    "print(\"Sample of available metrics:\")\n",
    "available_metrics = metric_registry.list_metrics()\n",
    "for metric in available_metrics[:5]:\n",
    "    print(f\"  - {metric}\")\n",
    "print(f\"  ... and {len(available_metrics) - 5} more metrics\\n\")\n",
    "\n",
    "# Create standard financial ratios using the metric registry\n",
    "# Note: We need to create a net_income node for ROA calculation\n",
    "# Using formula calculation to apply tax rate\n",
    "net_income = graph.add_calculation(\n",
    "    name=\"NetIncome\",\n",
    "    input_names=[\"OperatingIncome\"],\n",
    "    operation_type=\"formula\",\n",
    "    formula=\"operating_income * 0.7\",  # Assuming 30% tax rate\n",
    "    formula_variable_names=[\"operating_income\"]\n",
    ")\n",
    "\n",
    "# Add metric nodes to the graph\n",
    "current_ratio = graph.add_metric(\n",
    "    \"current_ratio\",\n",
    "    input_node_map={\n",
    "        \"current_assets\": \"CurrentAssets\",\n",
    "        \"current_liabilities\": \"CurrentLiabilities\"\n",
    "    }\n",
    ")\n",
    "\n",
    "# Calculate Return on Assets using direct metric calculation\n",
    "data_nodes = {\n",
    "    \"net_income\": graph.nodes[\"NetIncome\"],\n",
    "    \"total_assets\": graph.nodes[\"TotalAssets\"]\n",
    "}\n",
    "\n",
    "print(\"Financial Ratios for 2023:\")\n",
    "print(\"-\" * 40)\n",
    "\n",
    "# Current Ratio\n",
    "cr_value = graph.calculate(\"current_ratio\", \"2023\")\n",
    "print(f\"Current Ratio: {cr_value:.2f}\")\n",
    "\n",
    "# Get metric definition and interpret the value\n",
    "cr_metric_def = metric_registry.get(\"current_ratio\")\n",
    "cr_analysis = interpret_metric(cr_metric_def, cr_value)\n",
    "print(f\"  Rating: {cr_analysis['rating']}\")\n",
    "print(f\"  Interpretation: {cr_analysis['interpretation_message']}\")\n",
    "\n",
    "# Return on Assets\n",
    "roa_value = calculate_metric(\"return_on_assets\", data_nodes, \"2023\")\n",
    "print(f\"\\nReturn on Assets: {roa_value:.1f}%\")\n",
    "\n",
    "# Interpret ROA\n",
    "roa_metric_def = metric_registry.get(\"return_on_assets\")\n",
    "roa_analysis = interpret_metric(roa_metric_def, roa_value)\n",
    "print(f\"  Rating: {roa_analysis['rating']}\")\n",
    "print(f\"  Interpretation: {roa_analysis['interpretation_message']}\")\n"
   ]
  },
  {
   "cell_type": "markdown",
   "metadata": {
    "vscode": {
     "languageId": "raw"
    }
   },
   "source": [
    "## 5. Adjustments and Scenario Analysis\n",
    "\n",
    "The adjustments system allows for what-if analysis and scenario modeling by applying changes to node values.\n"
   ]
  },
  {
   "cell_type": "code",
   "execution_count": 28,
   "metadata": {},
   "outputs": [
    {
     "name": "stdout",
     "output_type": "stream",
     "text": [
      "Base Case Analysis (2023):\n",
      "  Revenue: $1,400.00\n",
      "  Operating Income: $320.00\n",
      "  Operating Margin: 22.9%\n",
      "\n",
      "Bullish Scenario (2023):\n",
      "  Adjusted Revenue: $1,540.00 (+10%)\n",
      "  Adjusted Operating Expenses: $266.00 (-5%)\n",
      "  Adjusted Operating Income: $474.00\n",
      "  Adjusted Operating Margin: 30.8%\n",
      "\n",
      "Scenario Comparison (2023 Revenue):\n",
      "  Base Case:     $1,400.00\n",
      "  Bullish (+10%): $1,540.00\n",
      "  Bearish (-15%): $1,190.00\n",
      "\n",
      "All Adjustments:\n",
      "  - Revenue (2023): multiplicative 1.1 - Bullish scenario - strong market demand\n",
      "  - OperatingExpenses (2023): multiplicative 0.95 - Cost optimization initiative\n",
      "  - Revenue (2023): multiplicative 0.85 - Bearish scenario - economic downturn\n"
     ]
    }
   ],
   "source": [
    "# Base case values\n",
    "print(\"Base Case Analysis (2023):\")\n",
    "print(f\"  Revenue: ${graph.calculate('Revenue', '2023'):,.2f}\")\n",
    "print(f\"  Operating Income: ${graph.calculate('OperatingIncome', '2023'):,.2f}\")\n",
    "print(f\"  Operating Margin: {graph.calculate('OperatingMargin', '2023'):.1f}%\")\n",
    "\n",
    "\n",
    "# Add a bullish scenario adjustment - 10% revenue increase\n",
    "adj1 = graph.add_adjustment(\n",
    "    node_name=\"Revenue\",\n",
    "    period=\"2023\",\n",
    "    value=1.10,  # 10% increase\n",
    "    adj_type=AdjustmentType.MULTIPLICATIVE,\n",
    "    reason=\"Bullish scenario - strong market demand\",\n",
    "    scenario=\"bullish\",\n",
    "    tags={\"Scenario/Bullish\", \"Revenue\"}\n",
    ")\n",
    "\n",
    "# Add a cost reduction adjustment\n",
    "adj2 = graph.add_adjustment(\n",
    "    node_name=\"OperatingExpenses\",\n",
    "    period=\"2023\", \n",
    "    value=0.95,  # 5% reduction\n",
    "    adj_type=AdjustmentType.MULTIPLICATIVE,\n",
    "    reason=\"Cost optimization initiative\",\n",
    "    scenario=\"bullish\",\n",
    "    tags={\"Scenario/Bullish\", \"CostReduction\"}\n",
    ")\n",
    "\n",
    "# Get adjusted values for bullish scenario - Use AdjustmentFilter to specify scenario\n",
    "print(\"\\nBullish Scenario (2023):\")\n",
    "bullish_filter = AdjustmentFilter(include_scenarios={\"bullish\"})\n",
    "bullish_revenue = graph.get_adjusted_value(\"Revenue\", \"2023\", filter_input=bullish_filter)\n",
    "print(f\"  Adjusted Revenue: ${bullish_revenue:,.2f} (+10%)\")\n",
    "\n",
    "# Recalculate downstream metrics with adjustments\n",
    "# Note: For a full scenario analysis, we'd need to propagate adjustments through the graph\n",
    "# For now, let's show the impact manually\n",
    "base_opex = graph.calculate(\"OperatingExpenses\", \"2023\")\n",
    "adjusted_opex = graph.get_adjusted_value(\"OperatingExpenses\", \"2023\", filter_input=bullish_filter)\n",
    "adjusted_gross_profit = bullish_revenue - graph.calculate(\"COGS\", \"2023\")\n",
    "adjusted_operating_income = adjusted_gross_profit - adjusted_opex\n",
    "adjusted_operating_margin = (adjusted_operating_income / bullish_revenue) * 100\n",
    "\n",
    "print(f\"  Adjusted Operating Expenses: ${adjusted_opex:,.2f} (-5%)\")\n",
    "print(f\"  Adjusted Operating Income: ${adjusted_operating_income:,.2f}\")\n",
    "print(f\"  Adjusted Operating Margin: {adjusted_operating_margin:.1f}%\")\n",
    "\n",
    "# Add a bearish scenario\n",
    "adj3 = graph.add_adjustment(\n",
    "    node_name=\"Revenue\",\n",
    "    period=\"2023\",\n",
    "    value=0.85,  # 15% decrease\n",
    "    adj_type=AdjustmentType.MULTIPLICATIVE,\n",
    "    reason=\"Bearish scenario - economic downturn\",\n",
    "    scenario=\"bearish\",\n",
    "    tags={\"Scenario/Bearish\", \"Revenue\"}\n",
    ")\n",
    "\n",
    "# Compare scenarios\n",
    "print(\"\\nScenario Comparison (2023 Revenue):\")\n",
    "base_revenue = graph.calculate(\"Revenue\", \"2023\")\n",
    "bearish_filter = AdjustmentFilter(include_scenarios={\"bearish\"})\n",
    "bearish_revenue = graph.get_adjusted_value(\"Revenue\", \"2023\", filter_input=bearish_filter)\n",
    "\n",
    "print(f\"  Base Case:     ${base_revenue:,.2f}\")\n",
    "print(f\"  Bullish (+10%): ${bullish_revenue:,.2f}\")\n",
    "print(f\"  Bearish (-15%): ${bearish_revenue:,.2f}\")\n",
    "\n",
    "# List all adjustments\n",
    "print(\"\\nAll Adjustments:\")\n",
    "all_adjustments = graph.list_all_adjustments()\n",
    "for adj in all_adjustments:\n",
    "    print(f\"  - {adj.node_name} ({adj.period}): {adj.type.value} {adj.value} - {adj.reason}\")\n"
   ]
  },
  {
   "cell_type": "markdown",
   "metadata": {
    "vscode": {
     "languageId": "raw"
    }
   },
   "source": [
    "### Alternative Approach: Using Default Scenario\n",
    "\n",
    "If you prefer not to import `AdjustmentFilter`, you can create adjustments without specifying a scenario (they'll use the default scenario) and then filter by tags:\n"
   ]
  },
  {
   "cell_type": "code",
   "execution_count": 29,
   "metadata": {},
   "outputs": [
    {
     "name": "stdout",
     "output_type": "stream",
     "text": [
      "Optimistic Scenario (using default scenario + tags):\n",
      "  Adjusted Revenue: $1,610.00 (+15%)\n",
      "  Adjusted COGS: $736.00 (-8%)\n",
      "  Adjusted Gross Profit: $874.00\n",
      "  Adjusted Gross Margin: 54.3%\n",
      "\n",
      "Margin improvement: 11.4 percentage points\n"
     ]
    }
   ],
   "source": [
    "# Alternative approach: Create adjustments without specifying scenario\n",
    "# They will use the default scenario\n",
    "\n",
    "# Add optimistic adjustments\n",
    "adj_opt_revenue = graph.add_adjustment(\n",
    "    node_name=\"Revenue\",\n",
    "    period=\"2023\",\n",
    "    value=1.15,  # 15% increase\n",
    "    adj_type=AdjustmentType.MULTIPLICATIVE,\n",
    "    reason=\"Optimistic scenario - market expansion\",\n",
    "    # No scenario parameter - uses default\n",
    "    tags={\"Optimistic\", \"Revenue\"}\n",
    ")\n",
    "\n",
    "adj_opt_costs = graph.add_adjustment(\n",
    "    node_name=\"COGS\",\n",
    "    period=\"2023\",\n",
    "    value=0.92,  # 8% reduction through efficiency gains\n",
    "    adj_type=AdjustmentType.MULTIPLICATIVE,\n",
    "    reason=\"Supply chain optimization\",\n",
    "    tags={\"Optimistic\", \"CostReduction\"}\n",
    ")\n",
    "\n",
    "# Now you can filter by tags and it will work with default scenario\n",
    "print(\"Optimistic Scenario (using default scenario + tags):\")\n",
    "optimistic_revenue = graph.get_adjusted_value(\"Revenue\", \"2023\", filter_input={\"Optimistic\"})\n",
    "optimistic_cogs = graph.get_adjusted_value(\"COGS\", \"2023\", filter_input={\"Optimistic\"})\n",
    "optimistic_gross_profit = optimistic_revenue - optimistic_cogs\n",
    "optimistic_gp_margin = (optimistic_gross_profit / optimistic_revenue) * 100\n",
    "\n",
    "print(f\"  Adjusted Revenue: ${optimistic_revenue:,.2f} (+15%)\")\n",
    "print(f\"  Adjusted COGS: ${optimistic_cogs:,.2f} (-8%)\")\n",
    "print(f\"  Adjusted Gross Profit: ${optimistic_gross_profit:,.2f}\")\n",
    "print(f\"  Adjusted Gross Margin: {optimistic_gp_margin:.1f}%\")\n",
    "\n",
    "# Compare to base case\n",
    "base_gp_margin = graph.calculate(\"GrossProfitMargin\", \"2023\")\n",
    "print(f\"\\nMargin improvement: {optimistic_gp_margin - base_gp_margin:.1f} percentage points\")\n"
   ]
  }
 ],
 "metadata": {
  "kernelspec": {
   "display_name": ".venv",
   "language": "python",
   "name": "python3"
  },
  "language_info": {
   "codemirror_mode": {
    "name": "ipython",
    "version": 3
   },
   "file_extension": ".py",
   "mimetype": "text/x-python",
   "name": "python",
   "nbconvert_exporter": "python",
   "pygments_lexer": "ipython3",
   "version": "3.12.8"
  }
 },
 "nbformat": 4,
 "nbformat_minor": 2
}
